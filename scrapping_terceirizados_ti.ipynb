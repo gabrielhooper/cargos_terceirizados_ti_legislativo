{
 "cells": [
  {
   "cell_type": "code",
   "execution_count": 2,
   "metadata": {},
   "outputs": [],
   "source": [
    "import requests\n",
    "from bs4 import BeautifulSoup\n",
    "import pandas as pd\n"
   ]
  },
  {
   "cell_type": "markdown",
   "metadata": {},
   "source": [
    "# Câmara dos Deputados"
   ]
  },
  {
   "cell_type": "markdown",
   "metadata": {},
   "source": [
    "## Extraindo informações\n"
   ]
  },
  {
   "cell_type": "code",
   "execution_count": 7,
   "metadata": {},
   "outputs": [],
   "source": [
    "def extract_info_from_all_pages(base_url):\n",
    "    all_data = []\n",
    "    not_found_pages = []\n",
    "    error_pages = []\n",
    "    page = 1\n",
    "    \n",
    "    while True:\n",
    "        print('pagina buscada:',page)\n",
    "        try:\n",
    "            # Monta a URL com o parâmetro da página\n",
    "            url = f\"{base_url}&pagina={page}\"\n",
    "            response = requests.get(url)\n",
    "            \n",
    "            # Verifica se a requisição foi bem-sucedida\n",
    "            if response.status_code != 200:\n",
    "                not_found_pages.append(page)\n",
    "                print('erro na página')\n",
    "                break\n",
    "            \n",
    "            soup = BeautifulSoup(response.content, 'html.parser')\n",
    "            \n",
    "            # Extração das informações desejadas\n",
    "            rows = soup.find_all('tr')  # Assumindo que os dados estão em uma tabela\n",
    "            page_data = []\n",
    "            \n",
    "            for row in rows:\n",
    "                cols = row.find_all('td')\n",
    "                if len(cols) == 6:  # Assumindo que as colunas desejadas são Nome, CPF, Cargo, Lotação, Empresa e Contrato\n",
    "                    nome = cols[0].get_text(strip=True)\n",
    "                    cpf = cols[1].get_text(strip=True)\n",
    "                    cargo = cols[2].get_text(strip=True)\n",
    "                    lotacao = cols[3].get_text(strip=True)\n",
    "                    empresa = cols[4].get_text(strip=True)\n",
    "                    contrato = cols[5].get_text(strip=True)\n",
    "                    pagina = page\n",
    "                    \n",
    "                    page_data.append([nome, cpf, cargo, lotacao, empresa, contrato, pagina])\n",
    "            \n",
    "            # Adiciona os dados da página atual à lista principal\n",
    "            all_data.extend(page_data)\n",
    "            \n",
    "            # Se menos de 20 resultados foram encontrados, encerra o loop\n",
    "            if len(page_data) < 20:\n",
    "                break\n",
    "            \n",
    "            # Avança para a próxima página\n",
    "            page += 1\n",
    "        \n",
    "        except requests.exceptions.RequestException as e:\n",
    "            print(f\"Erro ao acessar a página {page}: {e}\")\n",
    "            error_pages.append(page)\n",
    "            break\n",
    "    \n",
    "    # Criação do DataFrame com todos os dados coletados\n",
    "    df = pd.DataFrame(all_data, columns=['Nome', 'CPF', 'Cargo', 'Lotação', 'Empresa', 'Contrato', 'Pagina'])\n",
    "    \n",
    "    return df, not_found_pages, error_pages\n"
   ]
  },
  {
   "cell_type": "code",
   "execution_count": 8,
   "metadata": {},
   "outputs": [
    {
     "name": "stdout",
     "output_type": "stream",
     "text": [
      "pagina buscada: 1\n",
      "pagina buscada: 2\n",
      "pagina buscada: 3\n",
      "pagina buscada: 4\n",
      "pagina buscada: 5\n",
      "pagina buscada: 6\n",
      "pagina buscada: 7\n",
      "pagina buscada: 8\n",
      "pagina buscada: 9\n",
      "pagina buscada: 10\n",
      "pagina buscada: 11\n",
      "pagina buscada: 12\n",
      "pagina buscada: 13\n",
      "pagina buscada: 14\n",
      "pagina buscada: 15\n",
      "pagina buscada: 16\n",
      "pagina buscada: 17\n",
      "pagina buscada: 18\n",
      "pagina buscada: 19\n",
      "pagina buscada: 20\n",
      "pagina buscada: 21\n",
      "pagina buscada: 22\n",
      "pagina buscada: 23\n",
      "pagina buscada: 24\n",
      "pagina buscada: 25\n",
      "pagina buscada: 26\n",
      "pagina buscada: 27\n",
      "pagina buscada: 28\n",
      "pagina buscada: 29\n",
      "pagina buscada: 30\n",
      "pagina buscada: 31\n",
      "pagina buscada: 32\n",
      "pagina buscada: 33\n",
      "pagina buscada: 34\n",
      "pagina buscada: 35\n",
      "pagina buscada: 36\n",
      "pagina buscada: 37\n",
      "pagina buscada: 38\n",
      "pagina buscada: 39\n",
      "pagina buscada: 40\n",
      "pagina buscada: 41\n",
      "pagina buscada: 42\n",
      "pagina buscada: 43\n",
      "pagina buscada: 44\n",
      "pagina buscada: 45\n",
      "pagina buscada: 46\n",
      "pagina buscada: 47\n",
      "pagina buscada: 48\n",
      "pagina buscada: 49\n",
      "pagina buscada: 50\n",
      "pagina buscada: 51\n",
      "pagina buscada: 52\n",
      "pagina buscada: 53\n",
      "pagina buscada: 54\n",
      "pagina buscada: 55\n",
      "pagina buscada: 56\n",
      "pagina buscada: 57\n",
      "pagina buscada: 58\n",
      "pagina buscada: 59\n",
      "pagina buscada: 60\n",
      "pagina buscada: 61\n",
      "pagina buscada: 62\n",
      "pagina buscada: 63\n",
      "pagina buscada: 64\n",
      "pagina buscada: 65\n",
      "pagina buscada: 66\n",
      "pagina buscada: 67\n",
      "pagina buscada: 68\n",
      "pagina buscada: 69\n",
      "pagina buscada: 70\n",
      "pagina buscada: 71\n",
      "pagina buscada: 72\n",
      "pagina buscada: 73\n",
      "pagina buscada: 74\n",
      "pagina buscada: 75\n",
      "pagina buscada: 76\n",
      "pagina buscada: 77\n",
      "pagina buscada: 78\n",
      "pagina buscada: 79\n",
      "pagina buscada: 80\n",
      "pagina buscada: 81\n",
      "pagina buscada: 82\n",
      "pagina buscada: 83\n",
      "pagina buscada: 84\n",
      "pagina buscada: 85\n",
      "pagina buscada: 86\n",
      "pagina buscada: 87\n",
      "pagina buscada: 88\n",
      "pagina buscada: 89\n",
      "pagina buscada: 90\n",
      "pagina buscada: 91\n",
      "pagina buscada: 92\n",
      "pagina buscada: 93\n",
      "pagina buscada: 94\n",
      "pagina buscada: 95\n",
      "pagina buscada: 96\n",
      "pagina buscada: 97\n",
      "pagina buscada: 98\n",
      "pagina buscada: 99\n",
      "pagina buscada: 100\n",
      "pagina buscada: 101\n",
      "pagina buscada: 102\n",
      "pagina buscada: 103\n",
      "pagina buscada: 104\n",
      "pagina buscada: 105\n",
      "pagina buscada: 106\n",
      "pagina buscada: 107\n",
      "pagina buscada: 108\n",
      "pagina buscada: 109\n",
      "pagina buscada: 110\n",
      "pagina buscada: 111\n",
      "pagina buscada: 112\n",
      "pagina buscada: 113\n",
      "pagina buscada: 114\n",
      "pagina buscada: 115\n",
      "pagina buscada: 116\n",
      "pagina buscada: 117\n",
      "pagina buscada: 118\n",
      "pagina buscada: 119\n",
      "pagina buscada: 120\n",
      "pagina buscada: 121\n",
      "pagina buscada: 122\n",
      "pagina buscada: 123\n",
      "pagina buscada: 124\n",
      "pagina buscada: 125\n",
      "pagina buscada: 126\n",
      "pagina buscada: 127\n",
      "pagina buscada: 128\n",
      "pagina buscada: 129\n",
      "pagina buscada: 130\n",
      "pagina buscada: 131\n",
      "pagina buscada: 132\n",
      "pagina buscada: 133\n",
      "pagina buscada: 134\n",
      "pagina buscada: 135\n",
      "pagina buscada: 136\n",
      "pagina buscada: 137\n",
      "pagina buscada: 138\n",
      "pagina buscada: 139\n",
      "pagina buscada: 140\n",
      "pagina buscada: 141\n",
      "pagina buscada: 142\n",
      "pagina buscada: 143\n",
      "pagina buscada: 144\n",
      "pagina buscada: 145\n",
      "pagina buscada: 146\n",
      "pagina buscada: 147\n",
      "pagina buscada: 148\n",
      "pagina buscada: 149\n",
      "pagina buscada: 150\n",
      "pagina buscada: 151\n",
      "pagina buscada: 152\n",
      "pagina buscada: 153\n",
      "pagina buscada: 154\n",
      "pagina buscada: 155\n",
      "pagina buscada: 156\n",
      "pagina buscada: 157\n",
      "pagina buscada: 158\n",
      "pagina buscada: 159\n",
      "pagina buscada: 160\n",
      "pagina buscada: 161\n",
      "pagina buscada: 162\n",
      "pagina buscada: 163\n",
      "pagina buscada: 164\n",
      "pagina buscada: 165\n",
      "pagina buscada: 166\n",
      "pagina buscada: 167\n",
      "pagina buscada: 168\n",
      "pagina buscada: 169\n",
      "pagina buscada: 170\n",
      "pagina buscada: 171\n",
      "pagina buscada: 172\n",
      "pagina buscada: 173\n",
      "pagina buscada: 174\n",
      "pagina buscada: 175\n",
      "pagina buscada: 176\n",
      "pagina buscada: 177\n",
      "pagina buscada: 178\n",
      "pagina buscada: 179\n",
      "pagina buscada: 180\n",
      "pagina buscada: 181\n",
      "pagina buscada: 182\n",
      "pagina buscada: 183\n",
      "pagina buscada: 184\n",
      "pagina buscada: 185\n",
      "pagina buscada: 186\n",
      "pagina buscada: 187\n",
      "DataFrame extraído:\n",
      "                               Nome             CPF  \\\n",
      "0         ABELARDO BARBOSA DE SOUSA  ***.730.201-**   \n",
      "1         ACIVANIO DE SOUZA SANTANA  ***.649.521-**   \n",
      "2              ACRISIO LOPES TABOSA  ***.929.911-**   \n",
      "3         ADAILSON SILVA DOS SANTOS  ***.842.651-**   \n",
      "4     ADAILTON CARLOS SANTANA SILVA  ***.621.531-**   \n",
      "...                             ...             ...   \n",
      "3732         ÉRICA GOMES DE ANDRADE  ***.266.801-**   \n",
      "3733           ÉRIKA TEIXEIRA SILVA  ***.015.731-**   \n",
      "3734         Érika dos Santos Rocha  ***.048.801-**   \n",
      "3735      ÊNIO JOSÉ FERREIRA JÙNIOR  ***.044.511-**   \n",
      "3736       Ítalo César Araújo Brito  ***.424.741-**   \n",
      "\n",
      "                                                Cargo Lotação  \\\n",
      "0                         Analista de suporte técnico   SESAU   \n",
      "1                                 Motorista executivo           \n",
      "2                                 Motorista executivo   CTRAN   \n",
      "3                      Técnico de manutenção - 5 dias   DIREX   \n",
      "4                     Mecânico de instalação de split   CEQUI   \n",
      "...                                               ...     ...   \n",
      "3732     téc apoio a exec de ativ aux instrumentais 2           \n",
      "3733  téc de apoio a exec de ativ aux instrumentais 1   AMMED   \n",
      "3734        Atendente de Relacionamento com o Cidadão   DIREX   \n",
      "3735                        designer multimídia pleno           \n",
      "3736   Analista de Relacionamento - Marketing Digital   DIREX   \n",
      "\n",
      "                                                Empresa  Contrato  Pagina  \n",
      "0               PLANSUL PLANEJAMENTO E CONSULTORIA LTDA  211/2022       1  \n",
      "1                     SOLLO CONSTRUÇÕES E SERVIÇOS LTDA  161/2021       1  \n",
      "2                     SOLLO CONSTRUÇÕES E SERVIÇOS LTDA  161/2021       1  \n",
      "3     FUNDAÇÃO PARA O DESENVOLVIMENTO DAS ARTES E DA...   78/2024       1  \n",
      "4                              PROCLIMA ENGENHARIA LTDA   39/2020       1  \n",
      "...                                                 ...       ...     ...  \n",
      "3732            PLANSUL PLANEJAMENTO E CONSULTORIA LTDA  189/2020     187  \n",
      "3733            PLANSUL PLANEJAMENTO E CONSULTORIA LTDA  189/2020     187  \n",
      "3734                    G&E SERVIÇOS TERCEIRIZADOS LTDA  104/2021     187  \n",
      "3735            PLANSUL PLANEJAMENTO E CONSULTORIA LTDA  122/2021     187  \n",
      "3736                    G&E SERVIÇOS TERCEIRIZADOS LTDA  104/2021     187  \n",
      "\n",
      "[3737 rows x 7 columns]\n",
      "Todas as páginas foram encontradas com sucesso.\n"
     ]
    }
   ],
   "source": [
    "\n",
    "# Exemplo de uso\n",
    "base_url = 'https://www.camara.leg.br/transparencia/recursos-humanos/contratos-terceirizacao?search=&aba=terceirizados'\n",
    "df, not_found_pages, error_pages = extract_info_from_all_pages(base_url)\n",
    "\n",
    "print(\"DataFrame extraído:\")\n",
    "print(df)\n",
    "\n",
    "if not_found_pages:\n",
    "    print(f\"Páginas não encontradas: {not_found_pages}\")\n",
    "elif error_pages:\n",
    "    print(f\"Páginas com erro: {error_pages}\")\n",
    "else:\n",
    "    print(\"Todas as páginas foram encontradas com sucesso.\")"
   ]
  },
  {
   "cell_type": "code",
   "execution_count": 10,
   "metadata": {},
   "outputs": [
    {
     "data": {
      "text/html": [
       "<div>\n",
       "<style scoped>\n",
       "    .dataframe tbody tr th:only-of-type {\n",
       "        vertical-align: middle;\n",
       "    }\n",
       "\n",
       "    .dataframe tbody tr th {\n",
       "        vertical-align: top;\n",
       "    }\n",
       "\n",
       "    .dataframe thead th {\n",
       "        text-align: right;\n",
       "    }\n",
       "</style>\n",
       "<table border=\"1\" class=\"dataframe\">\n",
       "  <thead>\n",
       "    <tr style=\"text-align: right;\">\n",
       "      <th></th>\n",
       "      <th>Nome</th>\n",
       "      <th>CPF</th>\n",
       "      <th>Cargo</th>\n",
       "      <th>Lotação</th>\n",
       "      <th>Empresa</th>\n",
       "      <th>Contrato</th>\n",
       "      <th>Pagina</th>\n",
       "    </tr>\n",
       "  </thead>\n",
       "  <tbody>\n",
       "    <tr>\n",
       "      <th>0</th>\n",
       "      <td>ABELARDO BARBOSA DE SOUSA</td>\n",
       "      <td>***.730.201-**</td>\n",
       "      <td>Analista de suporte técnico</td>\n",
       "      <td>SESAU</td>\n",
       "      <td>PLANSUL PLANEJAMENTO E CONSULTORIA LTDA</td>\n",
       "      <td>211/2022</td>\n",
       "      <td>1</td>\n",
       "    </tr>\n",
       "    <tr>\n",
       "      <th>1</th>\n",
       "      <td>ACIVANIO DE SOUZA SANTANA</td>\n",
       "      <td>***.649.521-**</td>\n",
       "      <td>Motorista executivo</td>\n",
       "      <td></td>\n",
       "      <td>SOLLO CONSTRUÇÕES E SERVIÇOS LTDA</td>\n",
       "      <td>161/2021</td>\n",
       "      <td>1</td>\n",
       "    </tr>\n",
       "    <tr>\n",
       "      <th>2</th>\n",
       "      <td>ACRISIO LOPES TABOSA</td>\n",
       "      <td>***.929.911-**</td>\n",
       "      <td>Motorista executivo</td>\n",
       "      <td>CTRAN</td>\n",
       "      <td>SOLLO CONSTRUÇÕES E SERVIÇOS LTDA</td>\n",
       "      <td>161/2021</td>\n",
       "      <td>1</td>\n",
       "    </tr>\n",
       "    <tr>\n",
       "      <th>3</th>\n",
       "      <td>ADAILSON SILVA DOS SANTOS</td>\n",
       "      <td>***.842.651-**</td>\n",
       "      <td>Técnico de manutenção - 5 dias</td>\n",
       "      <td>DIREX</td>\n",
       "      <td>FUNDAÇÃO PARA O DESENVOLVIMENTO DAS ARTES E DA...</td>\n",
       "      <td>78/2024</td>\n",
       "      <td>1</td>\n",
       "    </tr>\n",
       "    <tr>\n",
       "      <th>4</th>\n",
       "      <td>ADAILTON CARLOS SANTANA SILVA</td>\n",
       "      <td>***.621.531-**</td>\n",
       "      <td>Mecânico de instalação de split</td>\n",
       "      <td>CEQUI</td>\n",
       "      <td>PROCLIMA ENGENHARIA LTDA</td>\n",
       "      <td>39/2020</td>\n",
       "      <td>1</td>\n",
       "    </tr>\n",
       "  </tbody>\n",
       "</table>\n",
       "</div>"
      ],
      "text/plain": [
       "                            Nome             CPF  \\\n",
       "0      ABELARDO BARBOSA DE SOUSA  ***.730.201-**   \n",
       "1      ACIVANIO DE SOUZA SANTANA  ***.649.521-**   \n",
       "2           ACRISIO LOPES TABOSA  ***.929.911-**   \n",
       "3      ADAILSON SILVA DOS SANTOS  ***.842.651-**   \n",
       "4  ADAILTON CARLOS SANTANA SILVA  ***.621.531-**   \n",
       "\n",
       "                             Cargo Lotação  \\\n",
       "0      Analista de suporte técnico   SESAU   \n",
       "1              Motorista executivo           \n",
       "2              Motorista executivo   CTRAN   \n",
       "3   Técnico de manutenção - 5 dias   DIREX   \n",
       "4  Mecânico de instalação de split   CEQUI   \n",
       "\n",
       "                                             Empresa  Contrato  Pagina  \n",
       "0            PLANSUL PLANEJAMENTO E CONSULTORIA LTDA  211/2022       1  \n",
       "1                  SOLLO CONSTRUÇÕES E SERVIÇOS LTDA  161/2021       1  \n",
       "2                  SOLLO CONSTRUÇÕES E SERVIÇOS LTDA  161/2021       1  \n",
       "3  FUNDAÇÃO PARA O DESENVOLVIMENTO DAS ARTES E DA...   78/2024       1  \n",
       "4                           PROCLIMA ENGENHARIA LTDA   39/2020       1  "
      ]
     },
     "execution_count": 10,
     "metadata": {},
     "output_type": "execute_result"
    }
   ],
   "source": [
    "df.head()"
   ]
  },
  {
   "cell_type": "code",
   "execution_count": 81,
   "metadata": {},
   "outputs": [
    {
     "data": {
      "text/plain": [
       "(3737, 7)"
      ]
     },
     "execution_count": 81,
     "metadata": {},
     "output_type": "execute_result"
    }
   ],
   "source": [
    "df.shape"
   ]
  },
  {
   "cell_type": "code",
   "execution_count": 13,
   "metadata": {},
   "outputs": [],
   "source": [
    "df.to_csv('./terceirizados_2024_09_02.csv',index=False, header=True)"
   ]
  },
  {
   "cell_type": "markdown",
   "metadata": {},
   "source": [
    "## Filtrando dados\n"
   ]
  },
  {
   "cell_type": "code",
   "execution_count": 73,
   "metadata": {},
   "outputs": [],
   "source": [
    "# df['Cargo'].unique()"
   ]
  },
  {
   "cell_type": "code",
   "execution_count": 34,
   "metadata": {},
   "outputs": [
    {
     "name": "stderr",
     "output_type": "stream",
     "text": [
      "c:\\Users\\gabri\\AppData\\Local\\Programs\\Python\\Python37\\lib\\site-packages\\pandas\\core\\strings.py:2001: UserWarning: This pattern has match groups. To actually get the groups, use str.extract.\n",
      "  return func(self, *args, **kwargs)\n"
     ]
    }
   ],
   "source": [
    "# Definindo a regex para filtrar cargos relacionados a TI\n",
    "# regex_ti = r'(?i)\\b(analista|técnico|arquiteto|supervisor|coordenador|designer|assistente)\\b(?!.*audiovisuais).*(TI|infraestrutura|suporte|dados|sistemas|informática|data center)\\b'\n",
    "regex_ti = r'(?i)\\b(analista|arquiteto|supervisor|coordenador|designer|assistente)\\b(?!.*audiovisuais).*(TI|infraestrutura|suporte|dados|sistemas|informática|data center)\\b'\n",
    "\n",
    "# Aplicando o filtro usando a regex\n",
    "df_ti = df[df['Cargo'].str.contains(regex_ti, na=False)]"
   ]
  },
  {
   "cell_type": "code",
   "execution_count": 35,
   "metadata": {},
   "outputs": [
    {
     "data": {
      "text/plain": [
       "Nome        288\n",
       "CPF         288\n",
       "Cargo       288\n",
       "Lotação     288\n",
       "Empresa     288\n",
       "Contrato    288\n",
       "Pagina      288\n",
       "dtype: int64"
      ]
     },
     "execution_count": 35,
     "metadata": {},
     "output_type": "execute_result"
    }
   ],
   "source": [
    "df_ti.drop_duplicates().count()"
   ]
  },
  {
   "cell_type": "code",
   "execution_count": 64,
   "metadata": {},
   "outputs": [
    {
     "data": {
      "text/plain": [
       "Analista de TI nível Sênior                                    89\n",
       "Analista de suporte técnico                                    88\n",
       "Analista de Infraestrutura de TI Master                        26\n",
       "Analista de Infraestrutura de TI Sênior                        26\n",
       "Analista de Suporte ao Desenvolvimento                         17\n",
       "Analista de TI - Analista de Dados - Sênior                    10\n",
       "Analista de Infraestrutura de TI Pleno                          6\n",
       "Analista de TI - Agile Master - sênior                          6\n",
       "Analista de TI - Arquiteto de Dados - Sênior                    5\n",
       "Analista de TI - Eng Dados - Sênior                             4\n",
       "Analista de TI - Planejamento e Processos Digitais - Sênior     4\n",
       "Analista de TI nível Master                                     4\n",
       "Arquiteto de Sistemas                                           3\n",
       "Name: Cargo, dtype: int64"
      ]
     },
     "execution_count": 64,
     "metadata": {},
     "output_type": "execute_result"
    }
   ],
   "source": [
    "df_ti.Cargo.value_counts()"
   ]
  },
  {
   "cell_type": "markdown",
   "metadata": {},
   "source": [
    "# Senado"
   ]
  },
  {
   "cell_type": "markdown",
   "metadata": {},
   "source": [
    "## Extraindo informações\n"
   ]
  },
  {
   "cell_type": "code",
   "execution_count": 67,
   "metadata": {},
   "outputs": [],
   "source": [
    "# URL da página com a tabela\n",
    "url = 'https://www6g.senado.leg.br/transparencia/licitacoes-e-contratos/contratos/terceirizados'\n",
    "\n",
    "# Enviando uma requisição para a URL\n",
    "response = requests.get(url)\n",
    "response.raise_for_status()  # Garante que a requisição foi bem-sucedida\n",
    "\n",
    "# Criando um objeto BeautifulSoup para fazer o parsing do HTML\n",
    "soup = BeautifulSoup(response.text, 'html.parser')\n",
    "\n",
    "# Encontrando a tabela na página\n",
    "table = soup.find('table')\n",
    "\n",
    "# Inicializando listas para armazenar os dados\n",
    "sequences = []\n",
    "names = []\n",
    "cpfs = []\n",
    "functions = []\n",
    "locations = []\n",
    "companies = []\n",
    "\n",
    "# Iterando sobre as linhas da tabela\n",
    "for row in table.find_all('tr'):\n",
    "    cells = row.find_all('td')\n",
    "    if len(cells) == 6:  # Verifica se a linha tem 6 colunas\n",
    "        sequences.append(cells[0].get_text(strip=True))\n",
    "        names.append(cells[1].get_text(strip=True))\n",
    "        cpfs.append(cells[2].get_text(strip=True))\n",
    "        functions.append(cells[3].get_text(strip=True))\n",
    "        locations.append(cells[4].get_text(strip=True))\n",
    "        companies.append(cells[5].get_text(strip=True))\n",
    "\n",
    "# Criando um DataFrame com os dados\n",
    "data = {\n",
    "    'Sequência': sequences,\n",
    "    'Nome': names,\n",
    "    'CPF': cpfs,\n",
    "    'Função': functions,\n",
    "    'Lotação': locations,\n",
    "    'Empresa': companies\n",
    "}\n",
    "df_senado = pd.DataFrame(data)\n",
    "\n",
    "# Salvando o DataFrame em um arquivo CSV\n",
    "# df_senado.to_csv('terceirizados.csv', index=False)\n",
    "\n",
    "# print(\"Tabela salva com sucesso como 'terceirizados.csv'.\")"
   ]
  },
  {
   "cell_type": "code",
   "execution_count": 68,
   "metadata": {},
   "outputs": [
    {
     "data": {
      "text/plain": [
       "(3164, 6)"
      ]
     },
     "execution_count": 68,
     "metadata": {},
     "output_type": "execute_result"
    }
   ],
   "source": [
    "df_senado.shape"
   ]
  },
  {
   "cell_type": "code",
   "execution_count": 69,
   "metadata": {},
   "outputs": [
    {
     "data": {
      "text/html": [
       "<div>\n",
       "<style scoped>\n",
       "    .dataframe tbody tr th:only-of-type {\n",
       "        vertical-align: middle;\n",
       "    }\n",
       "\n",
       "    .dataframe tbody tr th {\n",
       "        vertical-align: top;\n",
       "    }\n",
       "\n",
       "    .dataframe thead th {\n",
       "        text-align: right;\n",
       "    }\n",
       "</style>\n",
       "<table border=\"1\" class=\"dataframe\">\n",
       "  <thead>\n",
       "    <tr style=\"text-align: right;\">\n",
       "      <th></th>\n",
       "      <th>Sequência</th>\n",
       "      <th>Nome</th>\n",
       "      <th>CPF</th>\n",
       "      <th>Função</th>\n",
       "      <th>Lotação</th>\n",
       "      <th>Empresa</th>\n",
       "    </tr>\n",
       "  </thead>\n",
       "  <tbody>\n",
       "    <tr>\n",
       "      <th>0</th>\n",
       "      <td>1</td>\n",
       "      <td>Adaide José de Souza</td>\n",
       "      <td>968.***.***-04</td>\n",
       "      <td>APOIO ADMINISTRATIVO I</td>\n",
       "      <td>SECOM</td>\n",
       "      <td>R7  FACILITIES  –  MANUTENÇÃO  E SERVIÇOS LTDA...</td>\n",
       "    </tr>\n",
       "    <tr>\n",
       "      <th>1</th>\n",
       "      <td>2</td>\n",
       "      <td>Adail Lima da Silva</td>\n",
       "      <td>646.***.***-49</td>\n",
       "      <td>Servente Diurno</td>\n",
       "      <td>MAISSERV</td>\n",
       "      <td>MAIS SERVIÇOS LTDA. - Contrato 4727</td>\n",
       "    </tr>\n",
       "    <tr>\n",
       "      <th>2</th>\n",
       "      <td>3</td>\n",
       "      <td>Adailda Ferreira Nunes</td>\n",
       "      <td>093.***.***-68</td>\n",
       "      <td>Servente Diurno</td>\n",
       "      <td>MAISSERV</td>\n",
       "      <td>MAIS SERVIÇOS LTDA. - Contrato 4727</td>\n",
       "    </tr>\n",
       "    <tr>\n",
       "      <th>3</th>\n",
       "      <td>4</td>\n",
       "      <td>Adailson Silva Ferreira</td>\n",
       "      <td>031.***.***-09</td>\n",
       "      <td>Vigilância Desarmada Diurna</td>\n",
       "      <td>GI</td>\n",
       "      <td>G I EMPRESA DE SEGURANÇA LTDA - Contrato 5116</td>\n",
       "    </tr>\n",
       "    <tr>\n",
       "      <th>4</th>\n",
       "      <td>5</td>\n",
       "      <td>Adailton Leite</td>\n",
       "      <td>573.***.***-06</td>\n",
       "      <td>Ajudante de Serviços Gerais</td>\n",
       "      <td>SINFRA</td>\n",
       "      <td>CONSTRUTORA PORTO S.A. (CONSTRUTORA PORTO) - C...</td>\n",
       "    </tr>\n",
       "  </tbody>\n",
       "</table>\n",
       "</div>"
      ],
      "text/plain": [
       "  Sequência                     Nome             CPF  \\\n",
       "0         1     Adaide José de Souza  968.***.***-04   \n",
       "1         2      Adail Lima da Silva  646.***.***-49   \n",
       "2         3   Adailda Ferreira Nunes  093.***.***-68   \n",
       "3         4  Adailson Silva Ferreira  031.***.***-09   \n",
       "4         5           Adailton Leite  573.***.***-06   \n",
       "\n",
       "                        Função   Lotação  \\\n",
       "0       APOIO ADMINISTRATIVO I     SECOM   \n",
       "1              Servente Diurno  MAISSERV   \n",
       "2              Servente Diurno  MAISSERV   \n",
       "3  Vigilância Desarmada Diurna        GI   \n",
       "4  Ajudante de Serviços Gerais    SINFRA   \n",
       "\n",
       "                                             Empresa  \n",
       "0  R7  FACILITIES  –  MANUTENÇÃO  E SERVIÇOS LTDA...  \n",
       "1                MAIS SERVIÇOS LTDA. - Contrato 4727  \n",
       "2                MAIS SERVIÇOS LTDA. - Contrato 4727  \n",
       "3      G I EMPRESA DE SEGURANÇA LTDA - Contrato 5116  \n",
       "4  CONSTRUTORA PORTO S.A. (CONSTRUTORA PORTO) - C...  "
      ]
     },
     "execution_count": 69,
     "metadata": {},
     "output_type": "execute_result"
    }
   ],
   "source": [
    "df_senado.head()"
   ]
  },
  {
   "cell_type": "markdown",
   "metadata": {},
   "source": [
    "## Filtrando dados\n"
   ]
  },
  {
   "cell_type": "code",
   "execution_count": 80,
   "metadata": {},
   "outputs": [],
   "source": [
    "# df_senado['Função'].unique()"
   ]
  },
  {
   "cell_type": "code",
   "execution_count": 77,
   "metadata": {},
   "outputs": [],
   "source": [
    "# Definindo a regex para filtrar cargos relacionados a TI\n",
    "# regex_ti_senado = r'(?i)\\b(Técnico em Tecnologia da Informação|Desenvolvedor|Arquiteto de Plataforma|Scrum Master|Cientista de Dados|Programador|Administrador de Sistemas|Engenheiro de Dados|Desenvolvedor PL/SQL|Supervisor de Tecnologia de Dados e Pesquisa|Técnico em visualização e interação com dados em tecnologia Web)\\b'\n",
    "regex_ti_senado = r'(?i)\\b(Desenvolvedor|Arquiteto de Plataforma|Scrum Master|Web Designer|Cientista de Dados|Programador|Engenheiro de Dados|Desenvolvedor PL/SQL|Supervisor de Tecnologia de Dados e Pesquisa)\\b'\n",
    "# Aplicando o filtro usando a regex\n",
    "df_ti_senado = df_senado[df_senado['Função'].str.contains(regex_ti_senado, na=False)]"
   ]
  },
  {
   "cell_type": "code",
   "execution_count": 78,
   "metadata": {},
   "outputs": [
    {
     "data": {
      "text/plain": [
       "(97, 6)"
      ]
     },
     "execution_count": 78,
     "metadata": {},
     "output_type": "execute_result"
    }
   ],
   "source": [
    "df_ti_senado.shape"
   ]
  },
  {
   "cell_type": "code",
   "execution_count": 79,
   "metadata": {},
   "outputs": [
    {
     "data": {
      "text/plain": [
       "Programador Visual Gráfico                      24\n",
       "Desenvolvedor Java Sênior                       22\n",
       "Desenvolvedor Java Pleno                        20\n",
       "Scrum Master                                     8\n",
       "Arquiteto de Plataforma                          5\n",
       "Desenvolvedor PL/SQL Sênior                      4\n",
       "WEB Designer                                     4\n",
       "WEB Designer - 02 Substituições                  3\n",
       "Web Designer para Sistemas Corporativos          3\n",
       "Engenheiro de Dados                              2\n",
       "Supervisor de Tecnologia de Dados e Pesquisa     1\n",
       "Cientista de Dados                               1\n",
       "Name: Função, dtype: int64"
      ]
     },
     "execution_count": 79,
     "metadata": {},
     "output_type": "execute_result"
    }
   ],
   "source": [
    "df_ti_senado['Função'].value_counts()"
   ]
  }
 ],
 "metadata": {
  "kernelspec": {
   "display_name": "venv",
   "language": "python",
   "name": "python3"
  },
  "language_info": {
   "codemirror_mode": {
    "name": "ipython",
    "version": 3
   },
   "file_extension": ".py",
   "mimetype": "text/x-python",
   "name": "python",
   "nbconvert_exporter": "python",
   "pygments_lexer": "ipython3",
   "version": "3.7.0"
  }
 },
 "nbformat": 4,
 "nbformat_minor": 2
}
